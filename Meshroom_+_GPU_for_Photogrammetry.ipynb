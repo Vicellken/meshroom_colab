{
  "nbformat": 4,
  "nbformat_minor": 0,
  "metadata": {
    "colab": {
      "name": "Meshroom + GPU for Photogrammetry",
      "provenance": [],
      "collapsed_sections": [],
      "toc_visible": true,
      "include_colab_link": true
    },
    "kernelspec": {
      "name": "python3",
      "display_name": "Python 3"
    },
    "accelerator": "GPU"
  },
  "cells": [
    {
      "cell_type": "markdown",
      "metadata": {
        "id": "view-in-github",
        "colab_type": "text"
      },
      "source": [
        "<a href=\"https://colab.research.google.com/github/Vicellken/meshroom_colab/blob/main/Meshroom_%2B_GPU_for_Photogrammetry.ipynb\" target=\"_parent\"><img src=\"https://colab.research.google.com/assets/colab-badge.svg\" alt=\"Open In Colab\"/></a>"
      ]
    },
    {
      "cell_type": "markdown",
      "metadata": {
        "id": "GV0aPgMN8PWY"
      },
      "source": [
        "(from https://gist.github.com/donmahallem/22134574382b7bd8a67c1550734fcfc4 . Thanks to Ryan Baumann for sharing the gist on Mastodon.)\n",
        "\n",
        "Make sure you have GPU runtime. If you run the code below and receive the error, 'GPU device not found', click on 'Runtime' in the menu at top, 'change runtime type', >> 'select hardware acceleration' and select GPU. Then re-run the code to make sure it's running."
      ]
    },
    {
      "cell_type": "code",
      "metadata": {
        "id": "Fn4dL7Sl8Fca",
        "colab": {
          "base_uri": "https://localhost:8080/",
          "height": 34
        },
        "outputId": "0befe4a8-84b9-4cb4-d4d9-0b87644f9d45"
      },
      "source": [
        "import tensorflow as tf\n",
        "device_name = tf.test.gpu_device_name()\n",
        "if device_name != '/device:GPU:0':\n",
        "  raise SystemError('GPU device not found')\n",
        "print('Found GPU at: {}'.format(device_name))"
      ],
      "execution_count": null,
      "outputs": [
        {
          "output_type": "stream",
          "text": [
            "Found GPU at: /device:GPU:0\n"
          ],
          "name": "stdout"
        }
      ]
    },
    {
      "cell_type": "markdown",
      "metadata": {
        "id": "0eYTT15F8kqc"
      },
      "source": [
        "Get Meshroom and some data."
      ]
    },
    {
      "cell_type": "code",
      "metadata": {
        "id": "qetKvXVK8vWI"
      },
      "source": [
        "# IF YOU HAVE A FOLDER WITH IMAGES IN YOUR GOOGLE DRIVE\n",
        "# you can connect this notebook to your drive by using \n",
        "# this code:\n",
        "from google.colab import drive\n",
        "drive.mount('/content/drive')\n",
        "\n",
        "# and then your files will be available. You can click the\n",
        "# > at top left and select 'files' to see the file tree.\n",
        "# right-clicking on a file or folder will allow you to copy the full path\n",
        "# but nb if you then paste that path into any code, you need to remove the\n",
        "# `/content/` part of the path."
      ],
      "execution_count": null,
      "outputs": []
    },
    {
      "cell_type": "code",
      "metadata": {
        "id": "S6ILQQdD9TVU"
      },
      "source": [
        "# or you can run this cell to upload your files.\n",
        "\n",
        "from google.colab import files\n",
        "\n",
        "# optional upload for the meshfile\n",
        "\n",
        "uploaded = files.upload()\n",
        "\n",
        "for fn in uploaded.keys():\n",
        "    print('User uploaded file \"{name}\" with length {length} bytes'.format( name=fn, length=len(uploaded[fn])))"
      ],
      "execution_count": null,
      "outputs": []
    },
    {
      "cell_type": "markdown",
      "metadata": {
        "id": "Uw4xpkaiPZZd"
      },
      "source": [
        "If you upload files, make sure to move them into their own folder. Either upload as a zip file and then use `!unzip folder.zip` or use eg. `mv *.jpg /my_dataset/`"
      ]
    },
    {
      "cell_type": "code",
      "metadata": {
        "id": "ZqS-MIDLP1r1"
      },
      "source": [
        "!mkdir my_dataset\n",
        "!mv *.JPG my_dataset/"
      ],
      "execution_count": null,
      "outputs": []
    },
    {
      "cell_type": "code",
      "metadata": {
        "id": "fuZhBKUA8pm0"
      },
      "source": [
        "# or you can grab some data from AliceVision for the time being.\n",
        "!git clone https://github.com/alicevision/dataset_buddha\n"
      ],
      "execution_count": null,
      "outputs": []
    },
    {
      "cell_type": "code",
      "metadata": {
        "id": "8qj3sOUyPQ37"
      },
      "source": [
        "# get Meshroom  \n",
        "!wget -N https://github.com/alicevision/meshroom/releases/download/v2019.1.0/Meshroom-2019.1.0-linux.tar.gz\n",
        "!mkdir meshroom\n",
        "!tar xzf Meshroom-2019.1.0-linux.tar.gz -C ./meshroom"
      ],
      "execution_count": null,
      "outputs": []
    },
    {
      "cell_type": "markdown",
      "metadata": {
        "id": "Lop_Mdde9oaH"
      },
      "source": [
        "# Meshing!"
      ]
    },
    {
      "cell_type": "markdown",
      "metadata": {
        "id": "YJFWpW4AQOpR"
      },
      "source": [
        "Make sure that the next line points to the correct folder, eg my_dataset if you uploaded your own, or the dataset_buddha if you used wget to get the Buddha pictures from Alicevision. (and the line below would be chanted eg `--input ./dataset_buddha/buddha --output`)"
      ]
    },
    {
      "cell_type": "code",
      "metadata": {
        "id": "8Bnjh20K9aJm"
      },
      "source": [
        "!mkdir ./object_out\n",
        "!./meshroom/Meshroom-2019.1.0/meshroom_photogrammetry --input ./my_dataset --output ./object_out"
      ],
      "execution_count": null,
      "outputs": []
    },
    {
      "cell_type": "code",
      "metadata": {
        "id": "wtz12QNl930T"
      },
      "source": [
        "# zip and download the results!\n",
        "!zip -r meshobject.zip ./object_out\n",
        "files.download('meshobject.zip')"
      ],
      "execution_count": null,
      "outputs": []
    }
  ]
}
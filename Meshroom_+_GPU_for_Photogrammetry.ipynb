{
  "nbformat": 4,
  "nbformat_minor": 2,
  "metadata": {
    "colab": {
      "name": "Meshroom + GPU for Photogrammetry",
      "provenance": [],
      "collapsed_sections": [],
      "toc_visible": true,
      "include_colab_link": true
    },
    "kernelspec": {
      "name": "python3",
      "display_name": "Python 3"
    },
    "accelerator": "GPU"
  },
  "cells": [
    {
      "cell_type": "markdown",
      "source": [
        "<a href=\"https://colab.research.google.com/github/Vicellken/meshroom_colab/blob/main/Meshroom_%2B_GPU_for_Photogrammetry.ipynb\" target=\"_parent\"><img src=\"https://colab.research.google.com/assets/colab-badge.svg\" alt=\"Open In Colab\"/></a>"
      ],
      "metadata": {
        "id": "view-in-github",
        "colab_type": "text"
      }
    },
    {
      "cell_type": "markdown",
      "source": [
        "(from https://gist.github.com/donmahallem/22134574382b7bd8a67c1550734fcfc4 . Thanks to Ryan Baumann for sharing the gist on Mastodon.)\n",
        "\n",
        "Make sure you have GPU runtime. If you run the code below and receive the error, 'GPU device not found', click on 'Runtime' in the menu at top, 'change runtime type', >> 'select hardware acceleration' and select GPU. Then re-run the code to make sure it's running."
      ],
      "metadata": {
        "id": "GV0aPgMN8PWY"
      }
    },
    {
      "cell_type": "code",
      "execution_count": null,
      "source": [
        "import tensorflow as tf\r\n",
        "device_name = tf.test.gpu_device_name()\r\n",
        "if device_name != '/device:GPU:0':\r\n",
        "  raise SystemError('GPU device not found')\r\n",
        "print('Found GPU at: {}'.format(device_name))"
      ],
      "outputs": [
        {
          "output_type": "stream",
          "name": "stdout",
          "text": [
            "Found GPU at: /device:GPU:0\n"
          ]
        }
      ],
      "metadata": {
        "id": "Fn4dL7Sl8Fca",
        "colab": {
          "base_uri": "https://localhost:8080/",
          "height": 34
        },
        "outputId": "0befe4a8-84b9-4cb4-d4d9-0b87644f9d45"
      }
    },
    {
      "cell_type": "markdown",
      "source": [
        "Get Meshroom and some data."
      ],
      "metadata": {
        "id": "0eYTT15F8kqc"
      }
    },
    {
      "cell_type": "code",
      "execution_count": null,
      "source": [
        "# IF YOU HAVE A FOLDER WITH IMAGES IN YOUR GOOGLE DRIVE\r\n",
        "# you can connect this notebook to your drive by using \r\n",
        "# this code:\r\n",
        "from google.colab import drive\r\n",
        "drive.mount('/content/drive')\r\n",
        "\r\n",
        "# and then your files will be available. You can click the\r\n",
        "# > at top left and select 'files' to see the file tree.\r\n",
        "# right-clicking on a file or folder will allow you to copy the full path\r\n",
        "# but nb if you then paste that path into any code, you need to remove the\r\n",
        "# `/content/` part of the path."
      ],
      "outputs": [],
      "metadata": {
        "id": "qetKvXVK8vWI"
      }
    },
    {
      "cell_type": "code",
      "execution_count": null,
      "source": [
        "# or you can run this cell to upload your files.\r\n",
        "\r\n",
        "from google.colab import files\r\n",
        "\r\n",
        "# optional upload for the meshfile\r\n",
        "\r\n",
        "uploaded = files.upload()\r\n",
        "\r\n",
        "for fn in uploaded.keys():\r\n",
        "    print('User uploaded file \"{name}\" with length {length} bytes'.format( name=fn, length=len(uploaded[fn])))"
      ],
      "outputs": [],
      "metadata": {
        "id": "S6ILQQdD9TVU"
      }
    },
    {
      "cell_type": "markdown",
      "source": [
        "If you upload files, make sure to move them into their own folder. Either upload as a zip file and then use `!unzip folder.zip` or use eg. `mv *.jpg /my_dataset/`"
      ],
      "metadata": {
        "id": "Uw4xpkaiPZZd"
      }
    },
    {
      "cell_type": "code",
      "execution_count": null,
      "source": [
        "!mkdir my_dataset\r\n",
        "!cp *.JPG my_dataset/ # or mv\r\n",
        "\r\n",
        "# if imgs are from google drive\r\n",
        "# !cp /content/drive/MyDrive/STW_patch2 *.JPG my_dataset/"
      ],
      "outputs": [],
      "metadata": {
        "id": "ZqS-MIDLP1r1"
      }
    },
    {
      "cell_type": "code",
      "execution_count": null,
      "source": [
        "# or you can grab some data from AliceVision for the time being.\r\n",
        "!git clone https://github.com/alicevision/dataset_buddha\r\n"
      ],
      "outputs": [],
      "metadata": {
        "id": "fuZhBKUA8pm0"
      }
    },
    {
      "cell_type": "code",
      "execution_count": null,
      "source": [
        "# get Meshroom  \r\n",
        "!wget -N https://github.com/alicevision/meshroom/releases/download/v2019.1.0/Meshroom-2019.1.0-linux.tar.gz\r\n",
        "!mkdir meshroom\r\n",
        "!tar xzf Meshroom-2019.1.0-linux.tar.gz -C ./meshroom"
      ],
      "outputs": [],
      "metadata": {
        "id": "8qj3sOUyPQ37"
      }
    },
    {
      "cell_type": "markdown",
      "source": [
        "# Meshing!"
      ],
      "metadata": {
        "id": "Lop_Mdde9oaH"
      }
    },
    {
      "cell_type": "markdown",
      "source": [
        "Make sure that the next line points to the correct folder, eg my_dataset if you uploaded your own, or the dataset_buddha if you used wget to get the Buddha pictures from Alicevision. (and the line below would be chanted eg `--input ./dataset_buddha/buddha --output`)"
      ],
      "metadata": {
        "id": "YJFWpW4AQOpR"
      }
    },
    {
      "cell_type": "code",
      "execution_count": null,
      "source": [
        "!mkdir ./object_out\r\n",
        "!./meshroom/Meshroom-2019.1.0/meshroom_photogrammetry --input ./my_dataset --output ./object_out"
      ],
      "outputs": [],
      "metadata": {
        "id": "8Bnjh20K9aJm"
      }
    },
    {
      "cell_type": "code",
      "execution_count": null,
      "source": [
        "# zip and download the results!\r\n",
        "# file name is subjected to change\r\n",
        "!zip -r meshobject.zip ./object_out\r\n",
        "\r\n",
        "# import the files module if you haven't\r\n",
        "from google.colab import files\r\n",
        "files.download('meshobject.zip')"
      ],
      "outputs": [],
      "metadata": {
        "id": "wtz12QNl930T"
      }
    }
  ]
}